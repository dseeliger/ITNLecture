{
 "cells": [
  {
   "cell_type": "code",
   "execution_count": 1,
   "id": "bbfb27f0",
   "metadata": {},
   "outputs": [
    {
     "data": {
      "application/vnd.jupyter.widget-view+json": {
       "model_id": "5e965dba0e8b4744bfa2b502a4ab0dd0",
       "version_major": 2,
       "version_minor": 0
      },
      "text/plain": []
     },
     "metadata": {},
     "output_type": "display_data"
    }
   ],
   "source": [
    "from rdkit import Chem\n",
    "from rdkit.Chem.Draw import IPythonConsole\n",
    "from rdkit.Chem import AllChem\n",
    "from rdkit.Geometry import rdGeometry\n",
    "import nglview as nv\n",
    "from ipywidgets import interactive, VBox, interact, IntSlider\n",
    "import numpy as np"
   ]
  },
  {
   "cell_type": "code",
   "execution_count": 2,
   "id": "8fba6084",
   "metadata": {},
   "outputs": [],
   "source": [
    "def computeDihedralAngle(mol, indices, conf_id = 0):\n",
    "    c = mol.GetConformer(conf_id)\n",
    "    pos = []\n",
    "    for idx in indices:\n",
    "        pos.append(c.GetAtomPosition(idx))\n",
    "    phi = rdGeometry.ComputeSignedDihedralAngle(pos[0], pos[1], pos[2],pos[3])*180/np.pi\n",
    "    return phi\n",
    "\n",
    "def dihedralsFromConformers(mol, dih_list):\n",
    "    mtx = np.zeros((len(list(mol.GetConformers())), len(dih_list)))\n",
    "    for i, c in enumerate(list(mol.GetConformers())):\n",
    "        for k, indices in enumerate(dih_list):\n",
    "            v = computeDihedralAngle(mol, indices, conf_id = i)\n",
    "            mtx[i,k] = v\n",
    "    return mtx"
   ]
  },
  {
   "cell_type": "code",
   "execution_count": 3,
   "id": "f1210e24",
   "metadata": {},
   "outputs": [],
   "source": [
    "def load_conformers(mol):\n",
    "    \"\"\"\n",
    "    \"\"\"\n",
    "    view = nv.NGLWidget()\n",
    "    #view.add_component(str(Path(base_path, \"protein.pdb\")))\n",
    "    nconfs = len(mol.GetConformers())\n",
    "    comps = []\n",
    "    for i in range(nconfs):\n",
    "        s = nv.RdkitStructure(mol, conf_id = i)\n",
    "        #view.add_structure(s)\n",
    "        c = view.add_component(s)\n",
    "        comps.append(c)\n",
    "    print(comps)\n",
    "#    for p in probes:\n",
    "#        view.add_component(str(Path(base_path, f\"{p}.ccp4\")))\n",
    "    return view, comps\n",
    "\n",
    "class LigandViewer():\n",
    "    \n",
    "    def __init__(self, mol):\n",
    "        self.mol = mol\n",
    "        #self.view, self.comps = load_conformers(mol)\n",
    "        self.view = nv.NGLWidget()\n",
    "        s = nv.RdkitStructure(self.mol, conf_id = 1)\n",
    "        self.c = self.view.add_component(s)\n",
    "        \n",
    "    def show_conformer(self, idx):\n",
    "        \"\"\"\n",
    "        Given the name of the loaded file (or a partial string),\n",
    "        returns the component index if loaded\n",
    "        \"\"\"\n",
    "#        print(idx)\n",
    "        if self.c is not None:\n",
    "            self.view.remove_component(self.c)\n",
    "        new_id = idx.new\n",
    "        s = nv.RdkitStructure(self.mol, conf_id = new_id)\n",
    "        self.c = self.view.add_component(s)\n",
    "        \n",
    "        #all_components = self.view._ngl_component_names\n",
    "        #print(all_components)\n",
    "#        print(self.comps[idx])\n",
    "#        return self.comps[idx]\n",
    "#        component_idx = all_components.index([i for i in all_components \n",
    "#                                              if component_name in i][0])\n",
    "#        return component_idx\n",
    "\n",
    "    def threshold_isosurface(self, idx):\n",
    "        \"\"\"\n",
    "        Controls the representation of the map for specific probe\n",
    "        :param probe_name: string, one of 'donor', 'acceptor', 'apolar'\n",
    "        :param threshold: threshold value for displaying the hotspot map\n",
    "        \"\"\"\n",
    "        colour_dict = {'donor': 'blue',\n",
    "                       'acceptor': 'red',\n",
    "                       'apolar': '#FFF176'}\n",
    "        comp = self.get_component_index(idx)\n",
    "        repr_params = [{'type': 'surface',\n",
    "                        'params': {'opacity': 0.4,\n",
    "                                   'isolevelType': 'value',\n",
    "#                                   'isolevel': threshold,\n",
    "                                   'color': '#FFF176'}}]\n",
    "        self.view.set_representations(repr_params, component=comp)"
   ]
  },
  {
   "cell_type": "code",
   "execution_count": 4,
   "id": "efb1123e",
   "metadata": {},
   "outputs": [],
   "source": [
    "ligand = Chem.MolFromMolFile('../data/ligand_md/ligand.sdf', removeHs = False)\n",
    "_ = AllChem.EmbedMultipleConfs(ligand, numConfs = 20)"
   ]
  },
  {
   "cell_type": "code",
   "execution_count": 5,
   "id": "d3471041",
   "metadata": {},
   "outputs": [],
   "source": [
    "lst = []\n",
    "lst.append( [7,8,9,10] )\n",
    "lst.append( [8,9,10,11] )\n",
    "lst.append( [9,10,11,14] )\n",
    "lst.append( [14,11,12,17] )\n",
    "mtx = dihedralsFromConformers(ligand, lst)"
   ]
  },
  {
   "cell_type": "code",
   "execution_count": null,
   "id": "e357111b",
   "metadata": {},
   "outputs": [],
   "source": []
  },
  {
   "cell_type": "code",
   "execution_count": 6,
   "id": "a6f12f95",
   "metadata": {},
   "outputs": [],
   "source": [
    "viewer = LigandViewer(ligand)"
   ]
  },
  {
   "cell_type": "code",
   "execution_count": 7,
   "id": "2e3fc5d7",
   "metadata": {},
   "outputs": [
    {
     "data": {
      "application/vnd.jupyter.widget-view+json": {
       "model_id": "c2bdfe8bcc1647b19307fddba533e731",
       "version_major": 2,
       "version_minor": 0
      },
      "text/plain": [
       "VBox(children=(NGLWidget(), IntSlider(value=1, max=19, min=1)))"
      ]
     },
     "metadata": {},
     "output_type": "display_data"
    }
   ],
   "source": [
    "slider = IntSlider(min=1,max=len(list(ligand.GetConformers()))-1)\n",
    "\n",
    "slider.observe(viewer.show_conformer, 'value')\n",
    "VBox([viewer.view, slider])"
   ]
  },
  {
   "cell_type": "code",
   "execution_count": null,
   "id": "a2a51e0c",
   "metadata": {},
   "outputs": [],
   "source": [
    "nv.__version__"
   ]
  },
  {
   "cell_type": "code",
   "execution_count": null,
   "id": "0d60104f",
   "metadata": {},
   "outputs": [],
   "source": [
    "import ipywidgets\n",
    "ipywidgets.__version__"
   ]
  },
  {
   "cell_type": "code",
   "execution_count": 8,
   "id": "bf3df244",
   "metadata": {},
   "outputs": [
    {
     "data": {
      "application/vnd.jupyter.widget-view+json": {
       "model_id": "f56a65b8af234911afa359db5205a9f8",
       "version_major": 2,
       "version_minor": 0
      },
      "text/plain": [
       "NGLWidget()"
      ]
     },
     "metadata": {},
     "output_type": "display_data"
    }
   ],
   "source": [
    "nv.demo()"
   ]
  },
  {
   "cell_type": "code",
   "execution_count": null,
   "id": "e88cd4c6",
   "metadata": {},
   "outputs": [],
   "source": []
  },
  {
   "cell_type": "code",
   "execution_count": null,
   "id": "e64348c3",
   "metadata": {},
   "outputs": [],
   "source": []
  },
  {
   "cell_type": "code",
   "execution_count": null,
   "id": "3bd235ac",
   "metadata": {},
   "outputs": [],
   "source": []
  },
  {
   "cell_type": "code",
   "execution_count": null,
   "id": "3c41393c",
   "metadata": {},
   "outputs": [],
   "source": []
  },
  {
   "cell_type": "code",
   "execution_count": null,
   "id": "3ff00330",
   "metadata": {},
   "outputs": [],
   "source": []
  },
  {
   "cell_type": "code",
   "execution_count": null,
   "id": "aa2cf068",
   "metadata": {},
   "outputs": [],
   "source": [
    "\n"
   ]
  },
  {
   "cell_type": "code",
   "execution_count": null,
   "id": "746c9c70",
   "metadata": {},
   "outputs": [],
   "source": []
  },
  {
   "cell_type": "code",
   "execution_count": null,
   "id": "e54dc59a",
   "metadata": {},
   "outputs": [],
   "source": [
    "rdGeometry.ComputeDihedralAngle"
   ]
  },
  {
   "cell_type": "code",
   "execution_count": null,
   "id": "9d49e391",
   "metadata": {},
   "outputs": [],
   "source": []
  }
 ],
 "metadata": {
  "kernelspec": {
   "display_name": "Python 3 (ipykernel)",
   "language": "python",
   "name": "python3"
  },
  "language_info": {
   "codemirror_mode": {
    "name": "ipython",
    "version": 3
   },
   "file_extension": ".py",
   "mimetype": "text/x-python",
   "name": "python",
   "nbconvert_exporter": "python",
   "pygments_lexer": "ipython3",
   "version": "3.9.6"
  }
 },
 "nbformat": 4,
 "nbformat_minor": 5
}
