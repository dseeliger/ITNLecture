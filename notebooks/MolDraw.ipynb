{
 "cells": [
  {
   "cell_type": "code",
   "execution_count": 40,
   "id": "bbfb27f0",
   "metadata": {},
   "outputs": [],
   "source": [
    "from rdkit import Chem\n",
    "from rdkit.Chem.Draw import IPythonConsole\n",
    "from rdkit.Chem import AllChem\n",
    "import nglview as nv\n",
    "from ipywidgets import interactive, VBox"
   ]
  },
  {
   "cell_type": "code",
   "execution_count": 81,
   "id": "f1210e24",
   "metadata": {},
   "outputs": [],
   "source": [
    "def load_conformers(mol):\n",
    "    \"\"\"\n",
    "    \"\"\"\n",
    "    view = nv.NGLWidget()\n",
    "    #view.add_component(str(Path(base_path, \"protein.pdb\")))\n",
    "    nconfs = len(mol.GetConformers())\n",
    "    comps = []\n",
    "    for i in range(nconfs):\n",
    "        s = nv.RdkitStructure(mol, conf_id = i)\n",
    "        #view.add_structure(s)\n",
    "        c = view.add_component(s)\n",
    "        comps.append(c)\n",
    "    print(comps)\n",
    "#    for p in probes:\n",
    "#        view.add_component(str(Path(base_path, f\"{p}.ccp4\")))\n",
    "    return view, comps\n",
    "\n",
    "class LigandViewer():\n",
    "    \n",
    "    def __init__(self, mol):\n",
    "        self.mol = mol\n",
    "        #self.view, self.comps = load_conformers(mol)\n",
    "        self.view = nv.NGLWidget()\n",
    "        self.c = None\n",
    "        \n",
    "    def show_conformer(self, idx):\n",
    "        \"\"\"\n",
    "        Given the name of the loaded file (or a partial string),\n",
    "        returns the component index if loaded\n",
    "        \"\"\"\n",
    "        print(idx)\n",
    "        if self.c is not None:\n",
    "            self.view.remove_component(self.c)\n",
    "        s = nv.RdkitStructure(self.mol, conf_id = int(idx))\n",
    "        self.c = view.add_component(s)\n",
    "        \n",
    "        #all_components = self.view._ngl_component_names\n",
    "        #print(all_components)\n",
    "#        print(self.comps[idx])\n",
    "#        return self.comps[idx]\n",
    "#        component_idx = all_components.index([i for i in all_components \n",
    "#                                              if component_name in i][0])\n",
    "#        return component_idx\n",
    "\n",
    "    def threshold_isosurface(self, idx):\n",
    "        \"\"\"\n",
    "        Controls the representation of the map for specific probe\n",
    "        :param probe_name: string, one of 'donor', 'acceptor', 'apolar'\n",
    "        :param threshold: threshold value for displaying the hotspot map\n",
    "        \"\"\"\n",
    "        colour_dict = {'donor': 'blue',\n",
    "                       'acceptor': 'red',\n",
    "                       'apolar': '#FFF176'}\n",
    "        comp = self.get_component_index(idx)\n",
    "        repr_params = [{'type': 'surface',\n",
    "                        'params': {'opacity': 0.4,\n",
    "                                   'isolevelType': 'value',\n",
    "#                                   'isolevel': threshold,\n",
    "                                   'color': '#FFF176'}}]\n",
    "        self.view.set_representations(repr_params, component=comp)"
   ]
  },
  {
   "cell_type": "code",
   "execution_count": 82,
   "id": "efb1123e",
   "metadata": {},
   "outputs": [],
   "source": [
    "ligand = Chem.MolFromMolFile('../data/ligand_md/ligand.sdf', removeHs = False)\n",
    "_ = AllChem.EmbedMultipleConfs(ligand, numConfs = 20)"
   ]
  },
  {
   "cell_type": "code",
   "execution_count": 83,
   "id": "a6f12f95",
   "metadata": {},
   "outputs": [],
   "source": [
    "viewer = LigandViewer(ligand)"
   ]
  },
  {
   "cell_type": "code",
   "execution_count": 84,
   "id": "2e3fc5d7",
   "metadata": {},
   "outputs": [
    {
     "data": {
      "application/vnd.jupyter.widget-view+json": {
       "model_id": "7d3de4087d16465c8e2eb48011002554",
       "version_major": 2,
       "version_minor": 0
      },
      "text/plain": [
       "VBox(children=(NGLWidget(), interactive(children=(Dropdown(description='idx', options=(1, 2, 3, 4, 5, 6, 7, 8,…"
      ]
     },
     "metadata": {},
     "output_type": "display_data"
    }
   ],
   "source": [
    "controls = interactive(viewer.show_conformer, \n",
    "#                       probe_name=['donor', 'acceptor', 'apolar'], \n",
    "                       idx=range(1,len(ligand.GetConformers())))\n",
    "VBox([viewer.view, controls])"
   ]
  },
  {
   "cell_type": "code",
   "execution_count": 71,
   "id": "a2a51e0c",
   "metadata": {},
   "outputs": [
    {
     "ename": "AttributeError",
     "evalue": "'NGLWidget' object has no attribute 'c'",
     "output_type": "error",
     "traceback": [
      "\u001b[0;31m---------------------------------------------------------------------------\u001b[0m",
      "\u001b[0;31mAttributeError\u001b[0m                            Traceback (most recent call last)",
      "\u001b[0;32m<ipython-input-71-f5289b4dc2bc>\u001b[0m in \u001b[0;36m<module>\u001b[0;34m\u001b[0m\n\u001b[0;32m----> 1\u001b[0;31m \u001b[0mview\u001b[0m\u001b[0;34m.\u001b[0m\u001b[0mc\u001b[0m\u001b[0;34m\u001b[0m\u001b[0;34m\u001b[0m\u001b[0m\n\u001b[0m",
      "\u001b[0;31mAttributeError\u001b[0m: 'NGLWidget' object has no attribute 'c'"
     ]
    }
   ],
   "source": [
    "view.c"
   ]
  },
  {
   "cell_type": "code",
   "execution_count": 34,
   "id": "bf3df244",
   "metadata": {},
   "outputs": [
    {
     "data": {
      "application/vnd.jupyter.widget-view+json": {
       "model_id": "bb61ef94a370487d85c89aa2e5aeda34",
       "version_major": 2,
       "version_minor": 0
      },
      "text/plain": [
       "NGLWidget()"
      ]
     },
     "metadata": {},
     "output_type": "display_data"
    }
   ],
   "source": [
    "load_conformers(ligand)"
   ]
  },
  {
   "cell_type": "code",
   "execution_count": 18,
   "id": "e88cd4c6",
   "metadata": {},
   "outputs": [],
   "source": [
    "_ = AllChem.EmbedMultipleConfs(ligand, numConfs = 20)"
   ]
  },
  {
   "cell_type": "code",
   "execution_count": 21,
   "id": "e64348c3",
   "metadata": {},
   "outputs": [
    {
     "name": "stdout",
     "output_type": "stream",
     "text": [
      "<rdkit.Chem.rdchem.Conformer object at 0x2b80f22bd940>\n",
      "<rdkit.Chem.rdchem.Conformer object at 0x2b80f21f95d0>\n",
      "<rdkit.Chem.rdchem.Conformer object at 0x2b80f21f9580>\n",
      "<rdkit.Chem.rdchem.Conformer object at 0x2b80f21f95d0>\n",
      "<rdkit.Chem.rdchem.Conformer object at 0x2b80f21f9580>\n",
      "<rdkit.Chem.rdchem.Conformer object at 0x2b80f21f95d0>\n",
      "<rdkit.Chem.rdchem.Conformer object at 0x2b80f21f9580>\n",
      "<rdkit.Chem.rdchem.Conformer object at 0x2b80f21f95d0>\n",
      "<rdkit.Chem.rdchem.Conformer object at 0x2b80f21f9580>\n",
      "<rdkit.Chem.rdchem.Conformer object at 0x2b80f21f95d0>\n",
      "<rdkit.Chem.rdchem.Conformer object at 0x2b80f21f9580>\n",
      "<rdkit.Chem.rdchem.Conformer object at 0x2b80f21f95d0>\n",
      "<rdkit.Chem.rdchem.Conformer object at 0x2b80f21f9580>\n",
      "<rdkit.Chem.rdchem.Conformer object at 0x2b80f21f95d0>\n",
      "<rdkit.Chem.rdchem.Conformer object at 0x2b80f21f9580>\n",
      "<rdkit.Chem.rdchem.Conformer object at 0x2b80f21f95d0>\n",
      "<rdkit.Chem.rdchem.Conformer object at 0x2b80f21f9580>\n",
      "<rdkit.Chem.rdchem.Conformer object at 0x2b80f21f95d0>\n",
      "<rdkit.Chem.rdchem.Conformer object at 0x2b80f23f5d50>\n",
      "<rdkit.Chem.rdchem.Conformer object at 0x2b80f22934e0>\n"
     ]
    }
   ],
   "source": [
    "for c in ligand.GetConformers():\n",
    "    print(c)"
   ]
  },
  {
   "cell_type": "code",
   "execution_count": 17,
   "id": "3bd235ac",
   "metadata": {},
   "outputs": [],
   "source": [
    "AllChem.EmbedMultipleConfs?"
   ]
  },
  {
   "cell_type": "code",
   "execution_count": null,
   "id": "3c41393c",
   "metadata": {},
   "outputs": [],
   "source": []
  },
  {
   "cell_type": "code",
   "execution_count": 36,
   "id": "3ff00330",
   "metadata": {},
   "outputs": [],
   "source": [
    "view.add_component?"
   ]
  },
  {
   "cell_type": "code",
   "execution_count": null,
   "id": "aa2cf068",
   "metadata": {},
   "outputs": [],
   "source": [
    "\n"
   ]
  },
  {
   "cell_type": "code",
   "execution_count": null,
   "id": "746c9c70",
   "metadata": {},
   "outputs": [],
   "source": []
  },
  {
   "cell_type": "code",
   "execution_count": null,
   "id": "e54dc59a",
   "metadata": {},
   "outputs": [],
   "source": []
  }
 ],
 "metadata": {
  "kernelspec": {
   "display_name": "Python 3",
   "language": "python",
   "name": "python3"
  },
  "language_info": {
   "codemirror_mode": {
    "name": "ipython",
    "version": 3
   },
   "file_extension": ".py",
   "mimetype": "text/x-python",
   "name": "python",
   "nbconvert_exporter": "python",
   "pygments_lexer": "ipython3",
   "version": "3.7.10"
  }
 },
 "nbformat": 4,
 "nbformat_minor": 5
}
